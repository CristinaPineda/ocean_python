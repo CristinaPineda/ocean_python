{
  "nbformat": 4,
  "nbformat_minor": 0,
  "metadata": {
    "colab": {
      "name": "meuNote_python1_ocean.ipynb",
      "provenance": []
    },
    "kernelspec": {
      "name": "python3",
      "display_name": "Python 3"
    }
  },
  "cells": [
    {
      "cell_type": "code",
      "metadata": {
        "id": "sZjgTkvPIo7f",
        "outputId": "84159965-b06a-4865-aac2-0be217cc9525",
        "colab": {
          "base_uri": "https://localhost:8080/",
          "height": 52
        }
      },
      "source": [
        "def totalRefeicao(): #42.54\n",
        "  refeicao = float(input('Digite o valor da refeição: R$ '))\n",
        "  valorPagamento = (refeicao*0.1)+ refeicao\n",
        "  return (f\"O valor total a pagar pela refeição é: R$ {valorPagamento:.2f}.\".upper())  #capitalize() coloca somente a primeira letra em maiusculo\n",
        "\n",
        "totalRefeicao()"
      ],
      "execution_count": 23,
      "outputs": [
        {
          "output_type": "stream",
          "text": [
            "Digite o valor da refeição: R$ 42.54\n"
          ],
          "name": "stdout"
        },
        {
          "output_type": "execute_result",
          "data": {
            "application/vnd.google.colaboratory.intrinsic+json": {
              "type": "string"
            },
            "text/plain": [
              "'O VALOR TOTAL A PAGAR PELA REFEIÇÃO É: R$ 46.79.'"
            ]
          },
          "metadata": {
            "tags": []
          },
          "execution_count": 23
        }
      ]
    },
    {
      "cell_type": "code",
      "metadata": {
        "id": "Um3gFtgVXnZn",
        "outputId": "8528d95f-efb2-44ce-9c44-402aebf5a0ac",
        "colab": {
          "base_uri": "https://localhost:8080/"
        }
      },
      "source": [
        "idade = int(input('Quantos anos você tem? '))\n",
        "print(f\"Daqui a 5 anos você terá: {idade + 5} anos.\")"
      ],
      "execution_count": 30,
      "outputs": [
        {
          "output_type": "stream",
          "text": [
            "Quantos anos você tem? 37\n",
            "Daqui a 5 anos você terá: 42 anos.\n"
          ],
          "name": "stdout"
        }
      ]
    },
    {
      "cell_type": "code",
      "metadata": {
        "id": "fPva32fMYWf2",
        "outputId": "fb1b1f4f-4c80-451d-c7c9-cd08ea064d63",
        "colab": {
          "base_uri": "https://localhost:8080/",
          "height": 86
        }
      },
      "source": [
        "def quemEvoce():\n",
        "  nome = input('Qual o seu nome? ').title()\n",
        "  idade = int(input('qual a sua idade? '))\n",
        "  genero = input('Qual é o seu gênero? ')\n",
        "  \n",
        "  return (f'Olá, {nome}, você possui {idade} anos de idade e é do gênero {genero}. Já pensou no que você fará no seu aniversário de {idade + 1} anos?')\n",
        "  \n",
        "quemEvoce()"
      ],
      "execution_count": 47,
      "outputs": [
        {
          "output_type": "stream",
          "text": [
            "Qual o seu nome? Cristina\n",
            "qual a sua idade? 37\n",
            "Qual é o seu gênero? feminino\n"
          ],
          "name": "stdout"
        },
        {
          "output_type": "execute_result",
          "data": {
            "application/vnd.google.colaboratory.intrinsic+json": {
              "type": "string"
            },
            "text/plain": [
              "'Olá, Cristina, você possui 37 anos de idade e é do gênero feminino. Já pensou no que você fará no seu aniversário de 38 anos?'"
            ]
          },
          "metadata": {
            "tags": []
          },
          "execution_count": 47
        }
      ]
    }
  ]
}