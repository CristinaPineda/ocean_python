{
  "nbformat": 4,
  "nbformat_minor": 0,
  "metadata": {
    "colab": {
      "name": "meuNote_python2_ocean.ipynb",
      "provenance": [],
      "collapsed_sections": []
    },
    "kernelspec": {
      "name": "python3",
      "display_name": "Python 3"
    }
  },
  "cells": [
    {
      "cell_type": "code",
      "metadata": {
        "id": "DW7UvSgi_hRz"
      },
      "source": [
        ""
      ],
      "execution_count": null,
      "outputs": []
    },
    {
      "cell_type": "markdown",
      "metadata": {
        "id": "AanQfr3wC02K"
      },
      "source": [
        "## aula 2 "
      ]
    },
    {
      "cell_type": "code",
      "metadata": {
        "id": "4oLnh4HbAoVX",
        "outputId": "5888ab0d-29ff-4c6d-cde7-dcb58bfd2182",
        "colab": {
          "base_uri": "https://localhost:8080/"
        }
      },
      "source": [
        "import datetime as dt \n",
        "\n",
        "data_criada = datetime.date(2010,10,2)\n",
        "data_criada1 = datetime.date.day\n",
        "\n",
        "print(data_criada)\n",
        "print(data_criada1)"
      ],
      "execution_count": null,
      "outputs": [
        {
          "output_type": "stream",
          "text": [
            "2010-10-02\n",
            "<attribute 'day' of 'datetime.date' objects>\n"
          ],
          "name": "stdout"
        }
      ]
    },
    {
      "cell_type": "code",
      "metadata": {
        "id": "zeReAKmiFZXE",
        "outputId": "f70a29c3-705b-47cd-9330-e982703795e0",
        "colab": {
          "base_uri": "https://localhost:8080/"
        }
      },
      "source": [
        "from datetime import datetime as dt \n",
        "\n",
        "dt.now()"
      ],
      "execution_count": null,
      "outputs": [
        {
          "output_type": "execute_result",
          "data": {
            "text/plain": [
              "datetime.datetime(2020, 11, 4, 16, 29, 21, 394227)"
            ]
          },
          "metadata": {
            "tags": []
          },
          "execution_count": 10
        }
      ]
    },
    {
      "cell_type": "code",
      "metadata": {
        "id": "QN9MnqasHTZP",
        "outputId": "bcdd463c-4cea-485e-fac7-171161689554",
        "colab": {
          "base_uri": "https://localhost:8080/"
        }
      },
      "source": [
        "!pip frezze # mostra as bibliotecas que tem instalado "
      ],
      "execution_count": null,
      "outputs": [
        {
          "output_type": "stream",
          "text": [
            "ERROR: unknown command \"frezze\" - maybe you meant \"freeze\"\n"
          ],
          "name": "stdout"
        }
      ]
    },
    {
      "cell_type": "code",
      "metadata": {
        "id": "4xsxghwnHyrG",
        "outputId": "3fa2b4ee-6d73-4b77-c655-d6f1257bd079",
        "colab": {
          "base_uri": "https://localhost:8080/"
        }
      },
      "source": [
        "from datetime import  datetime as dt \n",
        "\n",
        "agora = dt.now()\n",
        "\n",
        "dia_atual = agora.day\n",
        "mes_atual = agora.month\n",
        "ano_atual = agora.year\n",
        "\n",
        "print(f'{dia_atual:02d}/{mes_atual:02d}/{ano_atual:04d}')\n",
        "\n",
        "print(agora.tzname())\n",
        "\n",
        "print(agora.strftime('%d/%m/%Y - %A'))\n",
        "print(agora.strftime('%d/%m/%Y - %a'))\n",
        "\n"
      ],
      "execution_count": null,
      "outputs": [
        {
          "output_type": "stream",
          "text": [
            "04/11/2020\n",
            "None\n",
            "04/11/2020 - Wednesday\n",
            "04/11/2020 - Wed\n",
            "1604508296.730638\n"
          ],
          "name": "stdout"
        }
      ]
    },
    {
      "cell_type": "code",
      "metadata": {
        "id": "64z2Bj7EJlWl",
        "outputId": "ad534a33-a2e1-435c-f8ea-b59a294cd579",
        "colab": {
          "base_uri": "https://localhost:8080/"
        }
      },
      "source": [
        "print(agora.timestamp())"
      ],
      "execution_count": null,
      "outputs": [
        {
          "output_type": "stream",
          "text": [
            "1604508296.730638\n"
          ],
          "name": "stdout"
        }
      ]
    },
    {
      "cell_type": "code",
      "metadata": {
        "id": "qKrXAnZAKFhp",
        "outputId": "8f4cd6c4-e9ae-445a-8bbd-7f256319eeb3",
        "colab": {
          "base_uri": "https://localhost:8080/"
        }
      },
      "source": [
        "# operador not\n",
        "idade = 30\n",
        "maior_idade = idade >=18\n",
        "menor_idade = not maior_idade\n",
        "\n",
        "print(idade, maior_idade, menor_idade)"
      ],
      "execution_count": null,
      "outputs": [
        {
          "output_type": "stream",
          "text": [
            "30 True False\n"
          ],
          "name": "stdout"
        }
      ]
    },
    {
      "cell_type": "code",
      "metadata": {
        "id": "ZSg9Lze_Nyq-",
        "outputId": "118a122e-37b8-4c87-a055-6656a6dcca57",
        "colab": {
          "base_uri": "https://localhost:8080/"
        }
      },
      "source": [
        "# operador and \n",
        "print(not(True and False))\n",
        "print(not True and False)\n",
        "\n",
        "print(True and True != False)\n",
        "\n"
      ],
      "execution_count": null,
      "outputs": [
        {
          "output_type": "stream",
          "text": [
            "True\n",
            "False\n",
            "True\n",
            "True\n"
          ],
          "name": "stdout"
        }
      ]
    },
    {
      "cell_type": "code",
      "metadata": {
        "id": "ZVcuJbslNtw6",
        "outputId": "90352447-f193-44a5-baae-661398b12ec7",
        "colab": {
          "base_uri": "https://localhost:8080/"
        }
      },
      "source": [
        "# operador or \n",
        "\n",
        "print(not False or False)\n",
        "print(not False and True or True)"
      ],
      "execution_count": null,
      "outputs": [
        {
          "output_type": "stream",
          "text": [
            "True\n",
            "True\n"
          ],
          "name": "stdout"
        }
      ]
    },
    {
      "cell_type": "code",
      "metadata": {
        "id": "5Jy8HPzoRIXF",
        "outputId": "76f9e319-cc96-4ce6-a4d9-7f383af40592",
        "colab": {
          "base_uri": "https://localhost:8080/"
        }
      },
      "source": [
        "if True:\n",
        "  print(\"esse será lido\")\n",
        "if False:\n",
        "  print(\"esse if nunca será lido\")"
      ],
      "execution_count": null,
      "outputs": [
        {
          "output_type": "stream",
          "text": [
            "esse será lido\n"
          ],
          "name": "stdout"
        }
      ]
    },
    {
      "cell_type": "code",
      "metadata": {
        "id": "DSGv1s8qRw9d",
        "outputId": "fc2486ee-72bb-4cc6-d1e2-d0ae15df0e68",
        "colab": {
          "base_uri": "https://localhost:8080/"
        }
      },
      "source": [
        "if False:\n",
        "  print(\"esse if nunca será lido\")\n",
        "else:\n",
        "  print(\"esse else será lido\")\n"
      ],
      "execution_count": null,
      "outputs": [
        {
          "output_type": "stream",
          "text": [
            "esse else será lido\n"
          ],
          "name": "stdout"
        }
      ]
    },
    {
      "cell_type": "code",
      "metadata": {
        "id": "aRI0p0_1SA1S",
        "outputId": "01066eff-04d0-4257-eb28-63f4fc046029",
        "colab": {
          "base_uri": "https://localhost:8080/"
        }
      },
      "source": [
        "if False:\n",
        "  print(\"esse if nunca será lido\")\n",
        "elif False:\n",
        "  print(\"esse elif nunca será lido\")\n",
        "elif True:\n",
        "  print(\"esse elif 2 será lido\")\n",
        "else:\n",
        "  print(\"esse else será lido\")\n"
      ],
      "execution_count": null,
      "outputs": [
        {
          "output_type": "stream",
          "text": [
            "esse elif 2 será lido\n"
          ],
          "name": "stdout"
        }
      ]
    },
    {
      "cell_type": "code",
      "metadata": {
        "id": "PspF3LY-SXXY",
        "outputId": "66c5d459-7f3c-4599-ff4c-102d3db20cd8",
        "colab": {
          "base_uri": "https://localhost:8080/"
        }
      },
      "source": [
        "#função recursiva - função que chama ela mesma\n",
        "\n",
        "def frase():\n",
        "  string = input(\"Responda: 'Você prefere a era medieval ou futurista? \").strip().lower()\n",
        "  if 'medieval' in string:\n",
        "    print('Acho que uma espada seria o ideal pra você')\n",
        "  elif 'futur' in string:\n",
        "    print('Acho que um sabre de luz seria o ideal pra você')\n",
        "  else:\n",
        "    print('tente novamente')\n",
        "    frase()\n",
        "\n",
        "frase()\n"
      ],
      "execution_count": null,
      "outputs": [
        {
          "output_type": "stream",
          "text": [
            "Responda: 'Você prefere a era medieval ou futurista? sdbsb\n",
            "tente novamente\n",
            "Responda: 'Você prefere a era medieval ou futurista? futur\n",
            "Acho que um sabre de luz seria o ideal pra você\n"
          ],
          "name": "stdout"
        }
      ]
    },
    {
      "cell_type": "code",
      "metadata": {
        "id": "bDD9duzTaZ8s",
        "outputId": "fa6fe343-4fdc-4a0a-903f-16199d7c2502",
        "colab": {
          "base_uri": "https://localhost:8080/"
        }
      },
      "source": [
        "def soma():\n",
        "  resultado = 1+ 2\n",
        "  return resultado\n",
        "\n",
        "resultado_soma = soma()\n",
        "\n",
        "print(resultado_soma)"
      ],
      "execution_count": null,
      "outputs": [
        {
          "output_type": "stream",
          "text": [
            "3\n"
          ],
          "name": "stdout"
        }
      ]
    },
    {
      "cell_type": "code",
      "metadata": {
        "id": "5nbPOInUhk-X",
        "outputId": "2864c7c5-3684-4e83-e7cb-500fd4169bc5",
        "colab": {
          "base_uri": "https://localhost:8080/"
        }
      },
      "source": [
        "#quando chamar a função precisa declarar os argumentos da função\n",
        "\n",
        "def somar(numero1, numero2):\n",
        "  resultado = numero1 + numero2\n",
        "  return resultado\n",
        "\n",
        "resultado_soma = somar(4, 6)\n",
        "print(resultado_soma)\n",
        "\n",
        "print(somar(10, 12))"
      ],
      "execution_count": null,
      "outputs": [
        {
          "output_type": "stream",
          "text": [
            "10\n",
            "22\n"
          ],
          "name": "stdout"
        }
      ]
    }
  ]
}